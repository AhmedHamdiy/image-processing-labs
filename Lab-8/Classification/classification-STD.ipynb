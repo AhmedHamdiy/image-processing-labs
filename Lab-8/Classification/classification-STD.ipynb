{
  "cells": [
    {
      "cell_type": "markdown",
      "metadata": {},
      "source": [
        "# Lab - Classification\n",
        "\n",
        "In this lab, we are going to build a classification module. When given an image of a handwritten digit like the one below, the model will be able to tell which digit is in the image.\n",
        "\n",
        "<img src='test2.jpg'>"
      ]
    },
    {
      "cell_type": "code",
      "execution_count": 26,
      "metadata": {},
      "outputs": [],
      "source": [
        "from sklearn.neighbors import KNeighborsClassifier\n",
        "from sklearn.neural_network import MLPClassifier  # MLP is an NN\n",
        "from sklearn import svm\n",
        "import numpy as np\n",
        "import argparse\n",
        "import imutils  # If you are unable to install this library, ask the TA; we only need this in extract_hsv_histogram.\n",
        "import cv2\n",
        "import os\n",
        "import random\n",
        "\n",
        "\n",
        "# Depending on library versions on your system, one of the following imports \n",
        "from sklearn.model_selection import train_test_split\n",
        "#from sklearn.cross_validation import train_test_split"
      ]
    },
    {
      "cell_type": "code",
      "execution_count": 27,
      "metadata": {},
      "outputs": [],
      "source": [
        "path_to_dataset = r'digits_dataset'\n",
        "target_img_size = (32, 32) # fix image size because classification algorithms THAT WE WILL USE HERE expect that\n",
        "\n",
        "# We are going to fix the random seed to make our experiments reproducible \n",
        "# since some algorithms use pseudorandom generators\n",
        "random_seed = 42  \n",
        "random.seed(random_seed)\n",
        "np.random.seed(random_seed)"
      ]
    },
    {
      "cell_type": "markdown",
      "metadata": {},
      "source": [
        "## Part I - Feature Extraction\n",
        "\n",
        "In this part, we are going to implement three functions. Each one will extract a different set of features from the image. The three sets are:\n",
        "\n",
        "1. Histogram of the pixel values features (this is the histogram you know, but on the HSV channels)\n",
        "2. Histogram of Gradients (HoG) features\n",
        "3. Raw pixels (basically, not doing any feature extraction and just supplying the input image to the classifier)"
      ]
    },
    {
      "cell_type": "code",
      "execution_count": 28,
      "metadata": {},
      "outputs": [],
      "source": [
        "def extract_hsv_histogram(img):\n",
        "    \"\"\"\n",
        "    TODO\n",
        "    1. Resize the image to target_img_size using cv2.resize\n",
        "    2. Convert the image from BGR representation (cv2 is BGR not RGB) to HSV using cv2.cvtColor\n",
        "    3. Acquire the histogram using the cv2.calcHist. Apply the functions on the 3 channels. For the bins \n",
        "        parameter pass (8, 8, 8). For the ranges parameter pass ([0, 180, 0, 256, 0, 256]). Name the histogram\n",
        "        <hist>.\n",
        "    \"\"\"\n",
        "    \n",
        "    img = cv2.resize(img, target_img_size)\n",
        "    img = cv2.cvtColor(img, cv2.COLOR_BGR2HSV)\n",
        "    hist = cv2.calcHist([img], [0, 1, 2], None, [8, 8, 8], [0, 180, 0, 256, 0, 256])\n",
        "\n",
        "    if imutils.is_cv2():\n",
        "        hist = cv2.normalize(hist)\n",
        "    else:\n",
        "        cv2.normalize(hist, hist)\n",
        "    return hist.flatten()     "
      ]
    },
    {
      "cell_type": "code",
      "execution_count": 29,
      "metadata": {},
      "outputs": [],
      "source": [
        "def extract_hog_features(img):\n",
        "    \"\"\"\n",
        "    TODO\n",
        "    You won't implement anything in this function. You just need to understand it \n",
        "    and understand its parameters (i.e win_size, cell_size, ... etc)\n",
        "    \"\"\"\n",
        "    img = cv2.resize(img, target_img_size)\n",
        "    win_size = (32, 32)\n",
        "    cell_size = (4, 4)\n",
        "    block_size_in_cells = (2, 2)\n",
        "    \n",
        "    block_size = (block_size_in_cells[1] * cell_size[1], block_size_in_cells[0] * cell_size[0])\n",
        "    block_stride = (cell_size[1], cell_size[0])\n",
        "    nbins = 9  # Number of orientation bins\n",
        "    hog = cv2.HOGDescriptor(win_size, block_size, block_stride, cell_size, nbins)\n",
        "    h = hog.compute(img)\n",
        "    h = h.flatten()\n",
        "    return h.flatten()"
      ]
    },
    {
      "cell_type": "code",
      "execution_count": 30,
      "metadata": {},
      "outputs": [],
      "source": [
        "def extract_raw_pixels(img):\n",
        "    \"\"\"\n",
        "    TODO\n",
        "    The classification algorithms we are going to use expect the input to be a vector not a matrix. \n",
        "    This is because they are general purpose and don't work only on images.\n",
        "    CNNs, on the other hand, expect matrices since they operate on images and exploit the \n",
        "    arrangement of pixels in the 2-D space.\n",
        "    So, what we only need to do in this function is to resize and flatten the image.\n",
        "    \"\"\"\n",
        "    img = cv2.resize(img, target_img_size)\n",
        "    return img.flatten()\n"
      ]
    },
    {
      "cell_type": "code",
      "execution_count": 7,
      "metadata": {},
      "outputs": [],
      "source": [
        "def extract_features(img, feature_set='hog'):\n",
        "    \"\"\"\n",
        "    TODO\n",
        "    Given either 'hsv_hist', 'hog', 'raw', call the respective function and return its output\n",
        "    \"\"\"\n",
        "    if feature_set == 'hsv_hist':\n",
        "        return extract_hsv_histogram(img)\n",
        "    elif feature_set == 'hog':\n",
        "        return extract_hog_features(img)\n",
        "    elif feature_set == 'raw':\n",
        "        return extract_raw_pixels(img)\n",
        "    else:\n",
        "        raise ValueError('Invalid feature set')"
      ]
    },
    {
      "cell_type": "markdown",
      "metadata": {},
      "source": [
        "The following function will extract the features and the label of each image in our dataset and save it in RAM. We normally don't save datasets in RAM, but this dataset is small."
      ]
    },
    {
      "cell_type": "code",
      "execution_count": 31,
      "metadata": {},
      "outputs": [],
      "source": [
        "def load_dataset(feature_set='hog'):\n",
        "    features = []\n",
        "    labels = []\n",
        "    img_filenames = os.listdir(path_to_dataset)\n",
        "\n",
        "    for i, fn in enumerate(img_filenames):\n",
        "        if fn.split('.')[-1] != 'jpg':\n",
        "            continue\n",
        "\n",
        "        label = fn.split('.')[0]\n",
        "        labels.append(label)\n",
        "\n",
        "        path = os.path.join(path_to_dataset, fn)\n",
        "        img = cv2.imread(path)\n",
        "        features.append(extract_features(img, feature_set))\n",
        "        \n",
        "        # show an update every 1,000 images\n",
        "        if i > 0 and i % 1000 == 0:\n",
        "            print(\"[INFO] processed {}/{}\".format(i, len(img_filenames)))\n",
        "        \n",
        "    return features, labels        "
      ]
    },
    {
      "cell_type": "markdown",
      "metadata": {},
      "source": [
        "## Part II - Classification\n",
        "\n",
        "In this part, we will test the classification performance of SVM, KNN, & NNs given our features."
      ]
    },
    {
      "cell_type": "code",
      "execution_count": 32,
      "metadata": {},
      "outputs": [],
      "source": [
        "# TODO understand the hyperparameters of each classifier\n",
        "classifiers = {\n",
        "    'SVM': svm.LinearSVC(random_state=random_seed),\n",
        "    'KNN': KNeighborsClassifier(n_neighbors=7),\n",
        "    'NN': MLPClassifier(solver='sgd', random_state=random_seed, hidden_layer_sizes=(1000,), max_iter=50, verbose=1)\n",
        "}"
      ]
    },
    {
      "cell_type": "code",
      "execution_count": 33,
      "metadata": {},
      "outputs": [],
      "source": [
        "# This function will test all our classifiers on a specific feature set\n",
        "def run_experiment(feature_set):\n",
        "    \n",
        "    # Load dataset with extracted features\n",
        "    print('Loading dataset. This will take time ...')\n",
        "    features, labels = load_dataset(feature_set)\n",
        "    print('Finished loading dataset.')\n",
        "    \n",
        "    # Since we don't want to know the performance of our classifier on images it has seen before\n",
        "    # we are going to withhold some images that we will test the classifier on after training \n",
        "    train_features, test_features, train_labels, test_labels = train_test_split(\n",
        "        features, labels, test_size=0.2, random_state=random_seed)\n",
        "    \n",
        "    for model_name, model in classifiers.items():\n",
        "        print('############## Training', model_name, \"##############\")\n",
        "        # Train the model only on the training features\n",
        "        model.fit(train_features, train_labels)\n",
        "        \n",
        "        # Test the model on images it hasn't seen before\n",
        "        accuracy = model.score(test_features, test_labels)\n",
        "        \n",
        "        print(model_name, 'accuracy:', accuracy*100, '%')"
      ]
    },
    {
      "cell_type": "markdown",
      "metadata": {},
      "source": [
        "Now, we see how each classifier and each feature set performs"
      ]
    },
    {
      "cell_type": "code",
      "execution_count": 34,
      "metadata": {},
      "outputs": [
        {
          "name": "stdout",
          "output_type": "stream",
          "text": [
            "Loading dataset. This will take time ...\n",
            "[INFO] processed 1000/7200\n",
            "[INFO] processed 2000/7200\n",
            "[INFO] processed 3000/7200\n",
            "[INFO] processed 4000/7200\n",
            "[INFO] processed 5000/7200\n",
            "[INFO] processed 6000/7200\n",
            "[INFO] processed 7000/7200\n",
            "Finished loading dataset.\n",
            "############## Training SVM ##############\n",
            "SVM accuracy: 97.63888888888889 %\n",
            "############## Training KNN ##############\n",
            "KNN accuracy: 96.80555555555556 %\n",
            "############## Training NN ##############\n",
            "Iteration 1, loss = 2.16545631\n",
            "Iteration 2, loss = 2.00208862\n",
            "Iteration 3, loss = 1.84139771\n",
            "Iteration 4, loss = 1.68711687\n",
            "Iteration 5, loss = 1.53951903\n",
            "Iteration 6, loss = 1.39941103\n",
            "Iteration 7, loss = 1.26883443\n",
            "Iteration 8, loss = 1.15010975\n",
            "Iteration 9, loss = 1.04391852\n",
            "Iteration 10, loss = 0.95021685\n",
            "Iteration 11, loss = 0.86811862\n",
            "Iteration 12, loss = 0.79676134\n",
            "Iteration 13, loss = 0.73477835\n",
            "Iteration 14, loss = 0.68111529\n",
            "Iteration 15, loss = 0.63433920\n",
            "Iteration 16, loss = 0.59340875\n",
            "Iteration 17, loss = 0.55746448\n",
            "Iteration 18, loss = 0.52578197\n",
            "Iteration 19, loss = 0.49770321\n",
            "Iteration 20, loss = 0.47274901\n",
            "Iteration 21, loss = 0.45034103\n",
            "Iteration 22, loss = 0.43008808\n",
            "Iteration 23, loss = 0.41183773\n",
            "Iteration 24, loss = 0.39519525\n",
            "Iteration 25, loss = 0.38023080\n",
            "Iteration 26, loss = 0.36640682\n",
            "Iteration 27, loss = 0.35362225\n",
            "Iteration 28, loss = 0.34200639\n",
            "Iteration 29, loss = 0.33119534\n",
            "Iteration 30, loss = 0.32110856\n",
            "Iteration 31, loss = 0.31184831\n",
            "Iteration 32, loss = 0.30314475\n",
            "Iteration 33, loss = 0.29508938\n",
            "Iteration 34, loss = 0.28761466\n",
            "Iteration 35, loss = 0.28037259\n",
            "Iteration 36, loss = 0.27362063\n",
            "Iteration 37, loss = 0.26737313\n",
            "Iteration 38, loss = 0.26133257\n",
            "Iteration 39, loss = 0.25573288\n",
            "Iteration 40, loss = 0.25041955\n",
            "Iteration 41, loss = 0.24531281\n",
            "Iteration 42, loss = 0.24051013\n",
            "Iteration 43, loss = 0.23585621\n",
            "Iteration 44, loss = 0.23155470\n",
            "Iteration 45, loss = 0.22735876\n",
            "Iteration 46, loss = 0.22339793\n",
            "Iteration 47, loss = 0.21959933\n",
            "Iteration 48, loss = 0.21597104\n",
            "Iteration 49, loss = 0.21249676\n",
            "Iteration 50, loss = 0.20919256\n",
            "NN accuracy: 95.41666666666667 %\n"
          ]
        },
        {
          "name": "stderr",
          "output_type": "stream",
          "text": [
            "/home/ahmed/.local/lib/python3.10/site-packages/sklearn/neural_network/_multilayer_perceptron.py:690: ConvergenceWarning: Stochastic Optimizer: Maximum iterations (50) reached and the optimization hasn't converged yet.\n",
            "  warnings.warn(\n"
          ]
        },
        {
          "data": {
            "text/plain": [
              "'\\nYou should get the following test accuracies the first time \\n\\nSVM accuracy ~ 97.70833333333333\\nKNN accuracy ~ 96.52777777777779\\nNN accuracy ~ 93.95833333333333\\n'"
            ]
          },
          "execution_count": 34,
          "metadata": {},
          "output_type": "execute_result"
        }
      ],
      "source": [
        "run_experiment('hog')\n",
        "\"\"\"\n",
        "You should get the following test accuracies the first time \n",
        "\n",
        "SVM accuracy ~ 97.70833333333333\n",
        "KNN accuracy ~ 96.52777777777779\n",
        "NN accuracy ~ 93.95833333333333\n",
        "\"\"\""
      ]
    },
    {
      "cell_type": "code",
      "execution_count": 35,
      "metadata": {},
      "outputs": [
        {
          "name": "stdout",
          "output_type": "stream",
          "text": [
            "Loading dataset. This will take time ...\n",
            "[INFO] processed 1000/7200\n",
            "[INFO] processed 2000/7200\n",
            "[INFO] processed 3000/7200\n",
            "[INFO] processed 4000/7200\n",
            "[INFO] processed 5000/7200\n",
            "[INFO] processed 6000/7200\n",
            "[INFO] processed 7000/7200\n",
            "Finished loading dataset.\n",
            "############## Training SVM ##############\n",
            "SVM accuracy: 29.51388888888889 %\n",
            "############## Training KNN ##############\n",
            "KNN accuracy: 31.041666666666668 %\n",
            "############## Training NN ##############\n",
            "Iteration 1, loss = 2.19868060\n",
            "Iteration 2, loss = 2.19828544\n",
            "Iteration 3, loss = 2.19799452\n",
            "Iteration 4, loss = 2.19776093\n",
            "Iteration 5, loss = 2.19762199\n",
            "Iteration 6, loss = 2.19743375\n",
            "Iteration 7, loss = 2.19735425\n",
            "Iteration 8, loss = 2.19723812\n",
            "Iteration 9, loss = 2.19714257\n",
            "Iteration 10, loss = 2.19707422\n",
            "Iteration 11, loss = 2.19703091\n",
            "Iteration 12, loss = 2.19697293\n",
            "Iteration 13, loss = 2.19692347\n",
            "Iteration 14, loss = 2.19689786\n",
            "Iteration 15, loss = 2.19686126\n",
            "Iteration 16, loss = 2.19682432\n",
            "Iteration 17, loss = 2.19679189\n",
            "Iteration 18, loss = 2.19676606\n",
            "Iteration 19, loss = 2.19673793\n",
            "Training loss did not improve more than tol=0.000100 for 10 consecutive epochs. Stopping.\n",
            "NN accuracy: 10.347222222222221 %\n"
          ]
        },
        {
          "data": {
            "text/plain": [
              "'\\nYou should get the following test accuracies the first time \\n\\nSVM accuracy ~ 32.083333333333336\\nKNN accuracy ~ 32.708333333333336\\nNN accuracy ~ 9.722222222222223\\n'"
            ]
          },
          "execution_count": 35,
          "metadata": {},
          "output_type": "execute_result"
        }
      ],
      "source": [
        "run_experiment('hsv_hist')\n",
        "\"\"\"\n",
        "You should get the following test accuracies the first time \n",
        "\n",
        "SVM accuracy ~ 32.083333333333336\n",
        "KNN accuracy ~ 32.708333333333336\n",
        "NN accuracy ~ 9.722222222222223\n",
        "\"\"\"\n",
        "\n",
        "# Why low accuracies?\n",
        "# The HSV histogram is not an ideal representation for these images.  \n",
        "# It fails to capture spatial information within the image.  \n",
        "# Instead, it only represents the color distribution, neglecting how colors are arranged or structured."
      ]
    },
    {
      "cell_type": "code",
      "execution_count": 36,
      "metadata": {},
      "outputs": [
        {
          "name": "stdout",
          "output_type": "stream",
          "text": [
            "Loading dataset. This will take time ...\n",
            "[INFO] processed 1000/7200\n",
            "[INFO] processed 2000/7200\n",
            "[INFO] processed 3000/7200\n",
            "[INFO] processed 4000/7200\n",
            "[INFO] processed 5000/7200\n",
            "[INFO] processed 6000/7200\n",
            "[INFO] processed 7000/7200\n",
            "Finished loading dataset.\n",
            "############## Training SVM ##############\n"
          ]
        },
        {
          "name": "stderr",
          "output_type": "stream",
          "text": [
            "/home/ahmed/.local/lib/python3.10/site-packages/sklearn/svm/_base.py:1235: ConvergenceWarning: Liblinear failed to converge, increase the number of iterations.\n",
            "  warnings.warn(\n"
          ]
        },
        {
          "name": "stdout",
          "output_type": "stream",
          "text": [
            "SVM accuracy: 85.06944444444444 %\n",
            "############## Training KNN ##############\n",
            "KNN accuracy: 94.30555555555556 %\n",
            "############## Training NN ##############\n",
            "Iteration 1, loss = 9.39711486\n",
            "Iteration 2, loss = 0.81859566\n",
            "Iteration 3, loss = 0.51227862\n",
            "Iteration 4, loss = 0.34988353\n",
            "Iteration 5, loss = 0.27270159\n",
            "Iteration 6, loss = 0.22819969\n",
            "Iteration 7, loss = 0.18540904\n",
            "Iteration 8, loss = 0.16707241\n",
            "Iteration 9, loss = 0.14052266\n",
            "Iteration 10, loss = 0.12797871\n",
            "Iteration 11, loss = 0.11036350\n",
            "Iteration 12, loss = 0.10413438\n",
            "Iteration 13, loss = 0.09694497\n",
            "Iteration 14, loss = 0.09015458\n",
            "Iteration 15, loss = 0.08607817\n",
            "Iteration 16, loss = 0.07316021\n",
            "Iteration 17, loss = 0.06742490\n",
            "Iteration 18, loss = 0.05711264\n",
            "Iteration 19, loss = 0.04980257\n",
            "Iteration 20, loss = 0.04401006\n",
            "Iteration 21, loss = 0.04896514\n",
            "Iteration 22, loss = 0.04736412\n",
            "Iteration 23, loss = 0.04049700\n",
            "Iteration 24, loss = 0.03738787\n",
            "Iteration 25, loss = 0.03290233\n",
            "Iteration 26, loss = 0.02894445\n",
            "Iteration 27, loss = 0.02721021\n",
            "Iteration 28, loss = 0.02477786\n",
            "Iteration 29, loss = 0.02115026\n",
            "Iteration 30, loss = 0.01873757\n",
            "Iteration 31, loss = 0.01693702\n",
            "Iteration 32, loss = 0.01824898\n",
            "Iteration 33, loss = 0.02086104\n",
            "Iteration 34, loss = 0.02069979\n",
            "Iteration 35, loss = 0.01873326\n",
            "Iteration 36, loss = 0.02322501\n",
            "Iteration 37, loss = 0.02603336\n",
            "Iteration 38, loss = 0.02550585\n",
            "Iteration 39, loss = 0.01958552\n",
            "Iteration 40, loss = 0.01465850\n",
            "Iteration 41, loss = 0.01214048\n",
            "Iteration 42, loss = 0.01137074\n",
            "Iteration 43, loss = 0.01030944\n",
            "Iteration 44, loss = 0.00958888\n",
            "Iteration 45, loss = 0.00885487\n",
            "Iteration 46, loss = 0.00908926\n",
            "Iteration 47, loss = 0.01014741\n",
            "Iteration 48, loss = 0.00913301\n",
            "Iteration 49, loss = 0.00900581\n",
            "Iteration 50, loss = 0.00865241\n",
            "NN accuracy: 91.31944444444444 %\n"
          ]
        },
        {
          "name": "stderr",
          "output_type": "stream",
          "text": [
            "/home/ahmed/.local/lib/python3.10/site-packages/sklearn/neural_network/_multilayer_perceptron.py:690: ConvergenceWarning: Stochastic Optimizer: Maximum iterations (50) reached and the optimization hasn't converged yet.\n",
            "  warnings.warn(\n"
          ]
        },
        {
          "data": {
            "text/plain": [
              "'\\nYou should get the following test accuracies the first time \\n\\nSVM accuracy ~ 85.06944444444444\\nKNN accuracy ~ 93.95833333333333\\nNN accuracy ~ 88.68055555555556\\n'"
            ]
          },
          "execution_count": 36,
          "metadata": {},
          "output_type": "execute_result"
        }
      ],
      "source": [
        "run_experiment('raw')\n",
        "\"\"\"\n",
        "You should get the following test accuracies the first time \n",
        "\n",
        "SVM accuracy ~ 85.06944444444444\n",
        "KNN accuracy ~ 93.95833333333333\n",
        "NN accuracy ~ 88.68055555555556\n",
        "\"\"\""
      ]
    },
    {
      "cell_type": "markdown",
      "metadata": {},
      "source": [
        "The classifiers list now has models trained on the last feature set you ran an experiment on. You can play around with it checking the probability it gives to each label, given an image."
      ]
    },
    {
      "cell_type": "code",
      "execution_count": 59,
      "metadata": {},
      "outputs": [
        {
          "name": "stdout",
          "output_type": "stream",
          "text": [
            "the prediction is: 2\n",
            "the prediction is: 5\n"
          ]
        }
      ],
      "source": [
        "# Example (test2.jpg is a 2)\n",
        "labels_map = {'a': 1, 'b': 2, 'c': 3, 'd': 4, 'e': 5, 'f': 6, 'g': 7, 'h': 8, 'i': 9}\n",
        "test_img_path = r'test2.jpg'\n",
        "img = cv2.imread(test_img_path)\n",
        "features = extract_features(img, 'raw')  # be careful of the choice of feature set\\\n",
        "nn = classifiers['NN']\n",
        "nn.predict_proba([features])\n",
        "predict=nn.predict([features])\n",
        "print(\"the prediction is: \"+str(labels_map[predict[0]]))\n",
        "\n",
        "# Example (test5.jpg is a 5)\n",
        "test_img_path = r'test5.jpg'\n",
        "img = cv2.imread(test_img_path)\n",
        "features = extract_features(img, 'raw')  # be careful of the choice of feature set\\\n",
        "nn = classifiers['NN']\n",
        "nn.predict_proba([features])\n",
        "predict=nn.predict([features])\n",
        "print(\"the prediction is: \"+str(labels_map[predict[0]]))\n",
        "\n",
        "\n"
      ]
    },
    {
      "cell_type": "markdown",
      "metadata": {},
      "source": [
        "Try to get a better accuracy by changing the model hyperparameters and retraining."
      ]
    }
  ],
  "metadata": {
    "kernelspec": {
      "display_name": "Python 3",
      "language": "python",
      "name": "python3"
    },
    "language_info": {
      "codemirror_mode": {
        "name": "ipython",
        "version": 3
      },
      "file_extension": ".py",
      "mimetype": "text/x-python",
      "name": "python",
      "nbconvert_exporter": "python",
      "pygments_lexer": "ipython3",
      "version": "3.10.12"
    }
  },
  "nbformat": 4,
  "nbformat_minor": 2
}
